{
 "cells": [
  {
   "cell_type": "code",
   "execution_count": null,
   "metadata": {},
   "outputs": [],
   "source": [
    "import datetime\n",
    "print(datetime.datetime.now())"
   ]
  },
  {
   "cell_type": "code",
   "execution_count": null,
   "metadata": {},
   "outputs": [],
   "source": [
    "import pandas as pd\n",
    "import numpy as np\n",
    "\n",
    "import matplotlib as mpl\n",
    "import matplotlib.pyplot as plt\n",
    "\n",
    "from sklearn.metrics import silhouette_score, silhouette_samples\n",
    "import sklearn.metrics\n",
    "from sklearn.preprocessing import StandardScaler\n",
    "from sklearn.cluster import KMeans, DBSCAN, AgglomerativeClustering\n",
    "from sklearn.mixture import GaussianMixture\n",
    "\n",
    "import itertools\n",
    "\n",
    "import scipy\n",
    "\n",
    "\n",
    "from IPython.core.interactiveshell import InteractiveShell\n",
    "InteractiveShell.ast_node_interactivity = \"all\""
   ]
  },
  {
   "cell_type": "code",
   "execution_count": null,
   "metadata": {},
   "outputs": [],
   "source": [
    "df = pd.read_csv(\"/Users/Derek/Desktop/MMA/MMA869 Machine Learning and AI/Assignment 1/jewelry_customers.csv\")\n",
    "\n",
    "list(df)\n",
    "df.shape\n",
    "df.info()\n",
    "df.describe().transpose()\n",
    "df.head(n=20)\n",
    "df.tail()"
   ]
  },
  {
   "cell_type": "code",
   "execution_count": null,
   "metadata": {},
   "outputs": [],
   "source": [
    "X = df.copy()\n",
    "scaler = StandardScaler()\n",
    "features = ['Income', 'SpendingScore','Age','Savings']\n",
    "X[features] = scaler.fit_transform(X[features])"
   ]
  },
  {
   "cell_type": "code",
   "execution_count": null,
   "metadata": {},
   "outputs": [],
   "source": [
    "X.shape\n",
    "X.info()\n",
    "X.describe().transpose()\n",
    "X.head(10)\n",
    "X.tail()"
   ]
  },
  {
   "cell_type": "code",
   "execution_count": null,
   "metadata": {},
   "outputs": [],
   "source": [
    "plt.style.use('default');\n",
    "\n",
    "plt.figure(figsize=(20, 10));\n",
    "plt.grid(True);\n",
    "\n",
    "# 0 Age\n",
    "# 1 Income\n",
    "# 2 Spending Score\n",
    "# 3 Savings\n",
    "\n",
    "# Plot goes X, Y\n",
    "\n",
    "plt.scatter(X.iloc[:, 1], X.iloc[:, 2], c=\"black\", s=200);\n",
    "plt.title(\"Jewelry Data\", fontsize=20);\n",
    "plt.xlabel('Income', fontsize=18);\n",
    "plt.ylabel('Spending Score', fontsize=18);\n",
    "plt.xticks(fontsize=18);\n",
    "plt.yticks(fontsize=18);"
   ]
  },
  {
   "cell_type": "code",
   "execution_count": null,
   "metadata": {},
   "outputs": [],
   "source": [
    "k_means = KMeans(init='k-means++', n_clusters=5, n_init=10, random_state=42)\n",
    "k_means.fit(X)"
   ]
  },
  {
   "cell_type": "code",
   "execution_count": null,
   "metadata": {},
   "outputs": [],
   "source": [
    "k_means.labels_"
   ]
  },
  {
   "cell_type": "code",
   "execution_count": null,
   "metadata": {},
   "outputs": [],
   "source": [
    "# Let's look at the centers\n",
    "k_means.cluster_centers_"
   ]
  },
  {
   "cell_type": "code",
   "execution_count": null,
   "metadata": {},
   "outputs": [],
   "source": [
    "plt.style.use('default');\n",
    "\n",
    "plt.figure(figsize=(16, 10));\n",
    "plt.grid(True);\n",
    "\n",
    "sc = plt.scatter(X.iloc[:, 1], X.iloc[:, 2], s=200, c=k_means.labels_);\n",
    "#plt.scatter(k_means.cluster_centers_[:, 0], k_means.cluster_centers_[:, 1], marker='x', s=500, c=\"black\")\n",
    "plt.title(\"K-Means (K=5)\", fontsize=20);\n",
    "plt.xlabel('Income', fontsize=22);\n",
    "plt.ylabel('Spending Score', fontsize=22);\n",
    "plt.xticks(fontsize=18);\n",
    "plt.yticks(fontsize=18);\n",
    "\n",
    "for label in k_means.labels_:\n",
    "    plt.text(x=k_means.cluster_centers_[label, 1], y=k_means.cluster_centers_[label, 2], s=label, fontsize=32, \n",
    "             horizontalalignment='center', verticalalignment='center', color='black',\n",
    "             bbox=dict(facecolor='white', edgecolor='black', boxstyle='round,pad=0.1', alpha=0.02));"
   ]
  },
  {
   "cell_type": "code",
   "execution_count": null,
   "metadata": {},
   "outputs": [],
   "source": [
    "# WCSS == Inertia\n",
    "k_means.inertia_\n",
    "# left off from here"
   ]
  },
  {
   "cell_type": "code",
   "execution_count": null,
   "metadata": {},
   "outputs": [],
   "source": [
    "silhouette_score(X, k_means.labels_)"
   ]
  },
  {
   "cell_type": "code",
   "execution_count": null,
   "metadata": {},
   "outputs": [],
   "source": [
    "plt.style.use('default');\n",
    "\n",
    "sample_silhouette_values = silhouette_samples(X, k_means.labels_)\n",
    "sizes = 200*sample_silhouette_values\n",
    "\n",
    "plt.figure(figsize=(16, 10));\n",
    "plt.grid(True);\n",
    "\n",
    "plt.scatter(X.iloc[:, 1], X.iloc[:, 2], s=sizes, c=k_means.labels_)\n",
    "plt.scatter(k_means.cluster_centers_[:, 1], k_means.cluster_centers_[:, 2], marker='x', s=500, c=\"black\")\n",
    "\n",
    "plt.title(\"K-Means (Dot Size = Silhouette Distance)\", fontsize=20);\n",
    "plt.xlabel('Income', fontsize=22);\n",
    "plt.ylabel('Spending Score', fontsize=22);\n",
    "plt.xticks(fontsize=18);\n",
    "plt.yticks(fontsize=18);"
   ]
  },
  {
   "cell_type": "code",
   "execution_count": null,
   "metadata": {},
   "outputs": [],
   "source": [
    "inertias = {}\n",
    "silhouettes = {}\n",
    "for k in range(2, 11):\n",
    "    kmeans = KMeans(init='k-means++', n_init=10, n_clusters=k, max_iter=1000, random_state=42).fit(X)\n",
    "    inertias[k] = kmeans.inertia_ # Inertia: Sum of distances of samples to their closest cluster center\n",
    "    silhouettes[k] = silhouette_score(X, kmeans.labels_, metric='euclidean')\n",
    "    \n",
    "\n",
    "plt.figure();\n",
    "plt.grid(True);\n",
    "plt.plot(list(inertias.keys()), list(inertias.values()));\n",
    "plt.title('K-Means, Elbow Method')\n",
    "plt.xlabel(\"Number of clusters, K\");\n",
    "plt.ylabel(\"Inertia\");\n",
    "\n",
    "\n",
    "plt.figure();\n",
    "plt.grid(True);\n",
    "plt.plot(list(silhouettes.keys()), list(silhouettes.values()));\n",
    "plt.title('K-Means, Elbow Method')\n",
    "plt.xlabel(\"Number of clusters, K\");\n",
    "plt.ylabel(\"Silhouette\");\n",
    "\n",
    "#Left off over here"
   ]
  },
  {
   "cell_type": "code",
   "execution_count": null,
   "metadata": {},
   "outputs": [],
   "source": [
    "k_means.cluster_centers_"
   ]
  },
  {
   "cell_type": "code",
   "execution_count": null,
   "metadata": {},
   "outputs": [],
   "source": [
    "for label in set(k_means.labels_):\n",
    "    print('\\nCluster {}:'.format(label))\n",
    "    X_tmp = X[k_means.labels_==label].copy()\n",
    "    X_tmp.loc['mean'] = X_tmp.mean()\n",
    "    X_tmp.tail(13)"
   ]
  },
  {
   "cell_type": "code",
   "execution_count": null,
   "metadata": {},
   "outputs": [],
   "source": [
    "from scipy.spatial import distance\n",
    "\n",
    "for i, label in enumerate(set(k_means.labels_)):    \n",
    "    X_tmp = X[k_means.labels_==label].copy()\n",
    "    \n",
    "    exemplar_idx = distance.cdist([k_means.cluster_centers_[i]], X_tmp).argmin()\n",
    "    exemplar = pd.DataFrame(X_tmp.iloc[exemplar_idx])\n",
    "   \n",
    "    print('\\nCluster {}:'.format(label))\n",
    "    exemplar"
   ]
  },
  {
   "cell_type": "code",
   "execution_count": null,
   "metadata": {},
   "outputs": [],
   "source": [
    "import seaborn as sns\n",
    "dat = X.copy()\n",
    "\n",
    "dat['Cluster'] = k_means.labels_\n",
    "\n",
    "datamart_melt = pd.melt(dat.reset_index(),\n",
    "id_vars=['Cluster'],\n",
    "value_vars=['Income','SpendingScore','Age','Savings'],\n",
    "var_name='Feature',\n",
    "value_name='Value')\n",
    "\n",
    "plt.title('Snake Plot, K-Means, K=5')\n",
    "sns.lineplot(x=\"Feature\", y=\"Value\", hue='Cluster', data=datamart_melt)"
   ]
  },
  {
   "cell_type": "code",
   "execution_count": null,
   "metadata": {},
   "outputs": [],
   "source": [
    "cluster_avg = dat.groupby(['Cluster']).mean()\n",
    "population_avg = dat.drop(['Cluster'], axis=1).mean()\n",
    "\n",
    "relative_imp = cluster_avg - population_avg\n",
    "\n",
    "plt.figure(figsize=(8, 2));\n",
    "plt.title('Relative importance of features');\n",
    "sns.heatmap(data=relative_imp, annot=True, fmt='.2f', cmap='RdYlGn');"
   ]
  },
  {
   "cell_type": "code",
   "execution_count": null,
   "metadata": {},
   "outputs": [],
   "source": [
    "k_means = KMeans(init='k-means++', n_clusters=5, n_init=10, random_state=42)\n",
    "k_means.fit(X)\n",
    "\n",
    "distances = k_means.fit_transform(X)\n",
    "variance = 0\n",
    "i = 0\n",
    "\n",
    "for label in k_means.labels_:\n",
    "    variance = variance + distances[i][label]\n",
    "    i = i + 1"
   ]
  },
  {
   "cell_type": "code",
   "execution_count": null,
   "metadata": {},
   "outputs": [],
   "source": [
    "def do_kmeans(X, k):\n",
    "    k_means = KMeans(init='k-means++', n_clusters=k, n_init=10, random_state=42)\n",
    "    k_means.fit(X)\n",
    "    wcss = k_means.inertia_\n",
    "    sil = silhouette_score(X, k_means.labels_)\n",
    "    \n",
    "    plt.style.use('default');\n",
    "\n",
    "    sample_silhouette_values = silhouette_samples(X, k_means.labels_)\n",
    "    sizes = 200*sample_silhouette_values\n",
    "\n",
    "    plt.figure(figsize=(16, 10));\n",
    "    plt.grid(True);\n",
    "\n",
    "    plt.scatter(X.iloc[:, 1], X.iloc[:, 2], s=sizes, c=k_means.labels_)\n",
    "    plt.scatter(k_means.cluster_centers_[:, 1], k_means.cluster_centers_[:, 2], marker='x', s=500, c=\"black\")\n",
    "\n",
    "    plt.title(\"K-Means (K={}, WCSS={:.2f}, Sil={:.2f})\".format(k, wcss, sil), fontsize=20);\n",
    "    plt.xlabel('Income', fontsize=22);\n",
    "    plt.ylabel('Spending Score', fontsize=22);\n",
    "    plt.xticks(fontsize=18);\n",
    "    plt.yticks(fontsize=18);\n",
    "    plt.show()\n",
    "    \n",
    "    print(\"K={}, WCSS={:.2f}, Sil={:.2f}\".format(k, wcss, sil))\n",
    "\n",
    "for k in range(2, 21):\n",
    "    do_kmeans(X, k)"
   ]
  },
  {
   "cell_type": "code",
   "execution_count": null,
   "metadata": {},
   "outputs": [],
   "source": [
    "k_means = KMeans(init='k-means++', n_clusters=7, n_init=10, random_state=42)\n",
    "k_means.fit(X)\n",
    "sample_silhouette_values = silhouette_samples(X, k_means.labels_)\n",
    "\n",
    "X_tmp = X.copy()\n",
    "X_tmp['Cluster ID'] = k_means.labels_"
   ]
  },
  {
   "cell_type": "code",
   "execution_count": null,
   "metadata": {},
   "outputs": [],
   "source": [
    "X_tmp['Silhouette'] = sample_silhouette_values\n",
    "X_tmp = X_tmp.sort_values(['Silhouette'])\n",
    "X_tmp.head()\n",
    "X_tmp.tail()"
   ]
  },
  {
   "cell_type": "code",
   "execution_count": null,
   "metadata": {},
   "outputs": [],
   "source": [
    "plt.figure(figsize=(16, 10));\n",
    "plt.grid(True);\n",
    "\n",
    "plt.scatter(X_tmp['AnnualIncome'], X_tmp['SpendingScore'], sizes=200*(X_tmp['Silhouette']+0.05), c=X_tmp['Cluster ID'])\n",
    "\n",
    "plt.title(\"K-Means (K = {}, Sil={:.2f})\".format(k_means.n_clusters, silhouette_score(X, kmeans.labels_, metric='euclidean')), fontsize=20);\n",
    "plt.xlabel('Annual Income (K)', fontsize=22);\n",
    "plt.ylabel('Spending Score', fontsize=22);\n",
    "plt.xticks(fontsize=18);\n",
    "plt.yticks(fontsize=18);\n",
    "\n",
    "for label in k_means.labels_:\n",
    "    plt.text(x=k_means.cluster_centers_[label, 0], y=k_means.cluster_centers_[label, 1], s=label, fontsize=32, \n",
    "             horizontalalignment='center', verticalalignment='center', color='black',\n",
    "             bbox=dict(facecolor='white', edgecolor='black', boxstyle='round,pad=0.1', alpha=0.02));\n",
    "    \n",
    "for i, txt in enumerate(X_tmp.index.values):\n",
    "    sil = X_tmp['Silhouette'].iloc[i]\n",
    "    if sil < 0.05:\n",
    "        plt.text(x=X_tmp['AnnualIncome'].iloc[i], y=X_tmp['SpendingScore'].iloc[i], s=txt, fontsize=22)"
   ]
  },
  {
   "cell_type": "code",
   "execution_count": null,
   "metadata": {},
   "outputs": [],
   "source": [
    "db = DBSCAN(eps=0.3, min_samples=2)\n",
    "db.fit(X)"
   ]
  },
  {
   "cell_type": "code",
   "execution_count": null,
   "metadata": {},
   "outputs": [],
   "source": [
    "db.labels_"
   ]
  },
  {
   "cell_type": "code",
   "execution_count": null,
   "metadata": {},
   "outputs": [],
   "source": [
    "silhouette_score(X, db.labels_)"
   ]
  },
  {
   "cell_type": "code",
   "execution_count": null,
   "metadata": {},
   "outputs": [],
   "source": [
    "plt.figure(figsize=(16, 10));\n",
    "plt.grid(True);\n",
    "\n",
    "unique_labels = set(db.labels_)\n",
    "colors = [plt.cm.Spectral(each) for each in np.linspace(0, 1, len(unique_labels))];\n",
    "\n",
    "for k in unique_labels:\n",
    "    if k == -1:        # Black used for noise.\n",
    "        col = [0, 0, 0, 1]\n",
    "    else:\n",
    "        col = colors[k]\n",
    "\n",
    "    xy = X[db.labels_ == k]\n",
    "    plt.plot(xy.iloc[:, 0], xy.iloc[:, 1], 'o', markerfacecolor=tuple(col), markeredgecolor='k', markersize=14);\n",
    "\n",
    "    \n",
    "plt.title('');\n",
    "plt.title(\"DBSCAN (n_clusters = {:d}, black = outliers)\".format(len(unique_labels)), fontsize=20);\n",
    "plt.xlabel('Annual Income (K)', fontsize=22);\n",
    "plt.ylabel('Spending Score', fontsize=22);\n",
    "plt.xticks(fontsize=18);\n",
    "plt.yticks(fontsize=18);"
   ]
  },
  {
   "cell_type": "code",
   "execution_count": null,
   "metadata": {},
   "outputs": [],
   "source": [
    "silhouettes = {}\n",
    "for eps in np.arange(0.1, 0.6, 0.1):\n",
    "    db = DBSCAN(eps=eps, min_samples=3).fit(X)\n",
    "    silhouettes[eps] = silhouette_score(X, db.labels_, metric='euclidean')\n",
    "    \n",
    "\n",
    "plt.figure();\n",
    "plt.plot(list(silhouettes.keys()), list(silhouettes.values()));\n",
    "plt.title('DBSCAN, Elbow Method')\n",
    "plt.xlabel(\"Eps\");\n",
    "plt.ylabel(\"Silhouette\");\n",
    "plt.grid(True);"
   ]
  },
  {
   "cell_type": "code",
   "execution_count": null,
   "metadata": {},
   "outputs": [],
   "source": [
    "def do_dbscan(X, eps, min_samples):\n",
    "    db = DBSCAN(eps=eps, min_samples=min_samples).fit(X)\n",
    "\n",
    "    unique_labels = set(db.labels_)\n",
    "    n_clusters = len(unique_labels)\n",
    "    \n",
    "    if n_clusters <= 1:\n",
    "        print('eps={}, min_samples={}, n_clusters <= 1. Returning.'.format(eps, min_samples))\n",
    "        return\n",
    "    \n",
    "    sil = silhouette_score(X, db.labels_)\n",
    "    print(\"eps={}, min_samples={}, n_clusters={}, sil={}\".format(eps, min_samples, n_clusters, sil))\n",
    "    \n",
    "    plt.figure(figsize=(16, 10));\n",
    "    plt.grid(True);   \n",
    "    \n",
    "    colors = [plt.cm.Spectral(each) for each in np.linspace(0, 1, len(unique_labels))];\n",
    "\n",
    "    for k in unique_labels:\n",
    "        if k == -1:        # Black used for noise.\n",
    "            col = [0, 0, 0, 1]\n",
    "        else:\n",
    "            col = colors[k]\n",
    "\n",
    "        xy = X[db.labels_ == k]\n",
    "        plt.plot(xy.iloc[:, 0], xy.iloc[:, 1], 'o', markerfacecolor=tuple(col), markeredgecolor='k', markersize=14);\n",
    "\n",
    "\n",
    "    plt.title('');\n",
    "    plt.title(\"DBSCAN (eps={}, min_samples={}, n_clusters = {:d}, sil={:.3f})\".format(eps, min_samples, n_clusters, sil), fontsize=20);\n",
    "    plt.xlabel('Annual Income (K)', fontsize=22);\n",
    "    plt.ylabel('Spending Score', fontsize=22);\n",
    "    plt.xticks(fontsize=18);\n",
    "    plt.yticks(fontsize=18);\n",
    "    \n",
    "\n",
    "epss = [0.1, 0.2, 0.3, 0.4, 0.5, 0.6]\n",
    "min_samples = range(1, 10)\n",
    "\n",
    "for prod in list(itertools.product(epss, min_samples)):\n",
    "    do_dbscan(X, prod[0], prod[1])"
   ]
  },
  {
   "cell_type": "code",
   "execution_count": null,
   "metadata": {},
   "outputs": [],
   "source": [
    "# Hierarchy\n",
    "\n",
    "agg = AgglomerativeClustering(n_clusters=5, affinity='euclidean', linkage='ward')\n",
    "agg.fit(X)"
   ]
  },
  {
   "cell_type": "code",
   "execution_count": null,
   "metadata": {},
   "outputs": [],
   "source": [
    "agg.labels_"
   ]
  },
  {
   "cell_type": "code",
   "execution_count": null,
   "metadata": {},
   "outputs": [],
   "source": [
    "silhouette_score(X, agg.labels_)"
   ]
  },
  {
   "cell_type": "code",
   "execution_count": null,
   "metadata": {},
   "outputs": [],
   "source": [
    "plt.style.use('default');\n",
    "\n",
    "plt.figure(figsize=(16, 10));\n",
    "plt.grid(True);\n",
    "\n",
    "plt.scatter(X.iloc[:, 0], X.iloc[:, 1], s=200, c=agg.labels_);\n",
    "plt.title(\"Agglomerative\", fontsize=20);\n",
    "plt.xlabel('Annual Income (K)', fontsize=22);\n",
    "plt.ylabel('Spending Score', fontsize=22);\n",
    "plt.xticks(fontsize=18);\n",
    "plt.yticks(fontsize=18);"
   ]
  },
  {
   "cell_type": "code",
   "execution_count": null,
   "metadata": {},
   "outputs": [],
   "source": [
    "def plot_agg(X, linkage, metric):\n",
    "    aggl = scipy.cluster.hierarchy.linkage(X, method=linkage, metric=metric)\n",
    "    \n",
    "    labels = scipy.cluster.hierarchy.fcluster(aggl, 5, criterion=\"maxclust\")\n",
    "    \n",
    "    sil = 0\n",
    "    n = len(set(labels))\n",
    "    if n > 1:\n",
    "        sil = silhouette_score(X , labels, metric=metric)\n",
    "    print(\"Linkage={}, Metric={}, Clusters={}, Silhouette={:.3}\".format(linkage, metric, n, sil))\n",
    "    \n",
    "    # Plot the dendogram\n",
    "    plt.figure(figsize=(12, 5))  \n",
    "    plt.title(\"Mall Dendogram (Linkage={}, Distance={}, N={}, Sil={:.3f})\".format(linkage, metric, n, sil))  \n",
    "    dend = scipy.cluster.hierarchy.dendrogram(aggl) \n",
    "    \n",
    "    \n",
    "    # Plot the points\n",
    "    plt.style.use('default');\n",
    "    plt.figure(figsize=(16, 10));\n",
    "    plt.grid(True);\n",
    "\n",
    "    plt.scatter(X.iloc[:, 0], X.iloc[:, 1], s=200, c=labels);\n",
    "    plt.title(\"Mall Agglomerative (Linkage={}, Distance={}, N={}, Sil={:.3f})\".format(linkage, metric, n, sil), fontsize=20);\n",
    "    plt.xlabel('Annual Income (K)', fontsize=22);\n",
    "    plt.ylabel('Spending Score', fontsize=22);\n",
    "    plt.xticks(fontsize=18);\n",
    "    plt.yticks(fontsize=18);\n",
    "\n",
    "    \n",
    "linkages = ['complete', 'ward', 'single', 'centroid', 'average']\n",
    "metrics = ['euclidean', 'minkowski', 'cityblock', 'cosine', 'correlation', 'chebyshev', 'canberra', 'mahalanobis']\n",
    "\n",
    "for prod in list(itertools.product(linkages, metrics)):\n",
    "    \n",
    "    # Some combos are not allowed\n",
    "    if (prod[0] in ['ward', 'centroid']) and prod[1] != 'euclidean':\n",
    "        continue\n",
    "        \n",
    "    plot_agg(X, prod[0], prod[1])"
   ]
  },
  {
   "cell_type": "code",
   "execution_count": null,
   "metadata": {},
   "outputs": [],
   "source": [
    "# Gausian Mixture Models\n",
    "\n",
    "gmm = GaussianMixture(n_components=5, covariance_type='full').fit(X)\n",
    "\n",
    "labels = gmm.predict(X)\n",
    "silhouette_score(X, labels)"
   ]
  },
  {
   "cell_type": "code",
   "execution_count": null,
   "metadata": {},
   "outputs": [],
   "source": [
    "# From:\n",
    "# https://scikit-learn.org/stable/auto_examples/mixture/plot_gmm_covariances.html\n",
    "def make_ellipses(gmm, ax):\n",
    "    for n, label in enumerate(set(labels)):\n",
    "        if gmm.covariance_type == 'full':\n",
    "            covariances = gmm.covariances_[n][:2, :2]\n",
    "        elif gmm.covariance_type == 'tied':\n",
    "            covariances = gmm.covariances_[:2, :2]\n",
    "        elif gmm.covariance_type == 'diag':\n",
    "            covariances = np.diag(gmm.covariances_[n][:2])\n",
    "        elif gmm.covariance_type == 'spherical':\n",
    "            covariances = np.eye(gmm.means_.shape[1]) * gmm.covariances_[n]\n",
    "        v, w = np.linalg.eigh(covariances)\n",
    "        u = w[0] / np.linalg.norm(w[0])\n",
    "        angle = np.arctan2(u[1], u[0])\n",
    "        angle = 180 * angle / np.pi  # convert to degrees\n",
    "        v = 2. * np.sqrt(2.) * np.sqrt(v)\n",
    "        ell = mpl.patches.Ellipse(gmm.means_[n, :2], v[0], v[1],\n",
    "                                  180 + angle, color='grey')\n",
    "        ell.set_clip_box(ax.bbox)\n",
    "        ell.set_alpha(0.2)\n",
    "        ax.add_artist(ell)\n",
    "        ax.set_aspect('equal', 'datalim')\n",
    "\n",
    "\n",
    "plt.style.use('default');\n",
    "\n",
    "plt.figure(figsize=(16, 10));\n",
    "plt.grid(True);\n",
    "\n",
    "plt.scatter(X.iloc[:, 0], X.iloc[:, 1], s=200, c=labels);\n",
    "make_ellipses(gmm, plt.gca())\n",
    "plt.title(\"GMM\", fontsize=20);\n",
    "plt.xlabel('Annual Income (K)', fontsize=22);\n",
    "plt.ylabel('Spending Score', fontsize=22);\n",
    "plt.xticks(fontsize=18);\n",
    "plt.yticks(fontsize=18);"
   ]
  },
  {
   "cell_type": "code",
   "execution_count": null,
   "metadata": {},
   "outputs": [],
   "source": [
    "scaler = StandardScaler()\n",
    "\n",
    "X1 = df.copy()\n",
    "\n",
    "# Create bins of Age\n",
    "X1['AgeBin'] = pd.cut(X1['Age'], [0, 30, 55, 100])\n",
    "X1 = X1.drop(['CustomerID', 'Age'], axis=1)\n",
    "\n",
    "features = ['AnnualIncome', 'SpendingScore']\n",
    "X1[features] = scaler.fit_transform(X1[features])\n",
    "\n",
    "X1.info()\n",
    "X1.describe().transpose()\n",
    "X1.head(n=20)"
   ]
  },
  {
   "cell_type": "code",
   "execution_count": null,
   "metadata": {},
   "outputs": [],
   "source": []
  }
 ],
 "metadata": {
  "kernelspec": {
   "display_name": "Python 3",
   "language": "python",
   "name": "python3"
  },
  "language_info": {
   "codemirror_mode": {
    "name": "ipython",
    "version": 3
   },
   "file_extension": ".py",
   "mimetype": "text/x-python",
   "name": "python",
   "nbconvert_exporter": "python",
   "pygments_lexer": "ipython3",
   "version": "3.7.3"
  }
 },
 "nbformat": 4,
 "nbformat_minor": 2
}
